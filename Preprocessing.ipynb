{
 "cells": [
  {
   "cell_type": "code",
   "execution_count": 89,
   "metadata": {
    "vscode": {
     "languageId": "shellscript"
    }
   },
   "outputs": [],
   "source": [
    "###IMPORT PACKAGES\n",
    "#\n",
    "import os\n",
    "import mne\n",
    "import numpy as np\n",
    "import pandas as pd\n",
    "import matplotlib.pyplot as plt\n",
    "from scipy import stats\n",
    "import re\n",
    "from autoreject import AutoReject\n",
    "from autoreject import Ransac\n",
    "from autoreject import get_rejection_threshold\n",
    "from mne.preprocessing import read_ica\n",
    "from mne.preprocessing import ICA  # Ensure ICA is imported\n",
    "from mne import read_epochs\n",
    "from mne_icalabel import label_components\n",
    "from mne_bids import BIDSPath, write_raw_bids\n",
    "from mne_bids import write_raw_bids, BIDSPath"
   ]
  },
  {
   "cell_type": "code",
   "execution_count": null,
   "metadata": {
    "vscode": {
     "languageId": "shellscript"
    }
   },
   "outputs": [],
   "source": [
    "# Set the base project path\n",
    "\n",
    "project_path = '/Users/admin/Documents/CodingBrain25/PreProcessing/'\n",
    "\n",
    "# Define paths to each folder directly using the project path\n",
    "raw_data_path = project_path + 'raw_data/'\n",
    "raw_files_path = project_path + 'raw_files/'\n",
    "epochs_uncleaned_path = project_path + 'uncleaned_epochs/'\n",
    "cleaned_epochs_path = project_path + 'cleaned_epochs/'\n",
    "ica_path = project_path + 'ICA_epochs/'\n",
    "ica_figs_path = project_path + 'ICA_figs/'\n",
    "ica_labels_path = project_path + 'ICA_label/'\n",
    "ica_cleaned_path = project_path + 'ICA_clean/'\n",
    "baseline_corrected_path = project_path + 'baseline_correct_epochs/'\n",
    "ar_epochs_path = project_path + 'autoreject_epochs/'\n",
    "evoked_path = project_path + 'Evokeds/'\n",
    "grand_path = project_path + 'Grand_average/'\n",
    "bids_path = project_path + 'bids_dataset/'\n",
    "images_path = project_path + 'Individual_Plots/'\n",
    "\n",
    "os.listdir('/Users/admin/Documents/CodingBrain25/PreProcessing/')\n",
    "\n"
   ]
  },
  {
   "cell_type": "code",
   "execution_count": null,
   "metadata": {
    "vscode": {
     "languageId": "shellscript"
    }
   },
   "outputs": [],
   "source": [
    "subs = [f.replace('.bdf', '') for f in os.listdir(raw_data_path) if f.endswith('.bdf')]\n",
    "\n",
    "subs"
   ]
  },
  {
   "cell_type": "code",
   "execution_count": 92,
   "metadata": {
    "vscode": {
     "languageId": "shellscript"
    }
   },
   "outputs": [],
   "source": [
    "# bad channels by Participants\n",
    "bad_channels_dict = dict()\n",
    "bad_channels_dict[subs[0]]= ['PO4', 'AF7']\n",
    "bad_channels_dict[subs[1]]= []\n",
    "bad_channels_dict[subs[2]]= []\n",
    "bad_channels_dict[subs[3]]= ['POz', 'P2']\n",
    "bad_channels_dict[subs[4]]= ['Pz', 'P2']\n",
    "bad_channels_dict[subs[5]]= []\n",
    "bad_channels_dict[subs[6]]= ['O2', 'PO8']\n",
    "bad_channels_dict[subs[7]]= ['P2']\n",
    "bad_channels_dict[subs[8]]= []\n",
    "bad_channels_dict[subs[9]]= []\n",
    "bad_channels_dict[subs[10]]= []\n",
    "bad_channels_dict[subs[11]]= []\n",
    "bad_channels_dict[subs[12]]= ['F3', 'Fpz', 'FT7', 'P9', 'AF8', 'F6', 'FC5']\n",
    "bad_channels_dict[subs[13]]= ['AF4', 'AF8', 'P2']\n",
    "bad_channels_dict[subs[14]]= ['F3', 'FC5', 'C3', 'Fz', 'FC6', 'TP8', 'P5', 'P9']\n",
    "bad_channels_dict[subs[15]]= ['Fp1', 'AF7', 'Fp2', 'F7', 'Fpz', 'FC2']\n",
    "bad_channels_dict[subs[16]]= ['C5', 'CP5', 'FC5', 'PO7', 'Oz', 'F8', 'C6', 'TP8']\n",
    "bad_channels_dict[subs[17]]= ['TP8', 'P4', 'T7']\n",
    "bad_channels_dict[subs[18]]= ['Fp1', 'FC5', 'C3', 'CP5', 'P3', 'Fpz', 'Fcz', 'C4', 'CP4']\n",
    "bad_channels_dict[subs[19]]= ['Fp1', 'AF7']\n",
    "bad_channels_dict[subs[20]]= ['F5', 'AF8', 'PO4']\n",
    "bad_channels_dict[subs[21]]= ['C3', 'CP1', 'TP8', 'CP6', 'P10', 'PO4']"
   ]
  },
  {
   "cell_type": "code",
   "execution_count": 93,
   "metadata": {
    "vscode": {
     "languageId": "shellscript"
    }
   },
   "outputs": [],
   "source": [
    "def load_and_process_raw(subject, raw_path, file_path, overwrite=True, save_events_as_annotations=True):\n",
    "    raw_filename = file_path + subject + \".bdf\"\n",
    "    if not os.path.exists(raw_filename):\n",
    "        raise FileNotFoundError(f\"File {raw_filename} not found.\")\n",
    "\n",
    "    raw_save_path = raw_path + subject + '-raw.fif'\n",
    "    \n",
    "    if os.path.exists(raw_save_path) and not overwrite:\n",
    "        print(f\"Skipping {subject}: raw file already exists.\")\n",
    "        return None\n",
    "\n",
    "    # Load raw data excluding EXG channels\n",
    "    raw = mne.io.read_raw_bdf(raw_filename, preload=True, exclude=[\"EXG\" + str(i) for i in range(1, 9)])\n",
    "\n",
    "    # Apply band-pass filter\n",
    "    raw_filtered = raw.filter(l_freq=1.0, h_freq=100.0)\n",
    "\n",
    "    # Set montage\n",
    "    montage = mne.channels.make_standard_montage('biosemi64')\n",
    "    raw_filtered.set_montage(montage)\n",
    "    raw_filtered.set_eeg_reference([\"T7\", \"T8\"])\n",
    "\n",
    "    # Set bad channels from dictionary\n",
    "    bad_channels = bad_channels_dict.get(subject, [])\n",
    "    raw_filtered.info['bads'] = bad_channels\n",
    "\n",
    "\n",
    "    # Find events with minimum duration\n",
    "# Find events with a minimum duration of 5ms\n",
    "    events = mne.find_events(raw_filtered, stim_channel='Status', initial_event=True, min_duration=0.005)\n",
    "    # Print detected event IDs\n",
    "    print(\"Detected Event IDs:\", np.unique(events[:, 2]))\n",
    "\n",
    "    # Filter events to include only expected event codes\n",
    "    expected_event_ids = [32, 33, 34, 42, 43, 44, 52, 53, 54, 100, 101]\n",
    "    filtered_events = events[np.isin(events[:, 2], expected_event_ids)]\n",
    "    print(f\"Number of valid events after filtering: {len(filtered_events)}\")\n",
    "\n",
    "    # Reclassification of events\n",
    "    congruent_codes = [32, 33, 34]\n",
    "    incongruent_codes = [52, 53, 54]\n",
    "    correct_code = 100\n",
    "    sample_window = int(20000 / 1000 * raw_filtered.info['sfreq'])  # 20-second window\n",
    "\n",
    "    reclassified_events = []\n",
    "    for i, event in enumerate(filtered_events):\n",
    "        if event[2] in congruent_codes or event[2] in incongruent_codes:\n",
    "            for j in range(i + 1, len(filtered_events)):\n",
    "                if filtered_events[j, 0] - event[0] > sample_window:\n",
    "                    break\n",
    "                if filtered_events[j, 2] == correct_code:\n",
    "                    new_code = 200 if event[2] in congruent_codes else 201\n",
    "                    reclassified_events.append([event[0], event[1], new_code])\n",
    "                    break\n",
    "\n",
    "    reclassified_events = np.array(reclassified_events)\n",
    "\n",
    "    # Create annotations from reclassified events\n",
    "    event_desc = {200: 'congruent', 201: 'incongruent'}\n",
    "    annotations = mne.annotations_from_events(reclassified_events, event_desc=event_desc,\n",
    "                                              sfreq=raw_filtered.info['sfreq'], orig_time=raw_filtered.info['meas_date'])\n",
    "    raw_filtered.set_annotations(annotations)\n",
    "\n",
    "    raw_filtered.resample(200)\n",
    "\n",
    "    # Save the processed raw file\n",
    "    if overwrite:\n",
    "        if os.path.exists(raw_save_path):\n",
    "            os.remove(raw_save_path)\n",
    "    raw_filtered.save(raw_save_path, overwrite=True)\n",
    "\n",
    "    print(f\"Saved raw data for {subject} at {raw_save_path}\")\n",
    "    return raw_filtered"
   ]
  },
  {
   "cell_type": "code",
   "execution_count": null,
   "metadata": {
    "vscode": {
     "languageId": "shellscript"
    }
   },
   "outputs": [],
   "source": [
    "raw = [\n",
    "    load_and_process_raw(\n",
    "        subject,\n",
    "        file_path=raw_data_path,\n",
    "        raw_path=raw_files_path,\n",
    "        overwrite=False\n",
    "    )\n",
    "    for subject in subs\n",
    "]"
   ]
  },
  {
   "cell_type": "code",
   "execution_count": 95,
   "metadata": {
    "vscode": {
     "languageId": "shellscript"
    }
   },
   "outputs": [],
   "source": [
    "def run_ica(subject, raw_path, save_ica,  overwrite=False, method='infomax'):\n",
    "    \"\"\"\n",
    "    Run ICA on the provided subject's raw data using specified ICA method, applying rejection thresholds and saving the ICA solution.\n",
    "\n",
    "    Parameters:\n",
    "    subject (str): Subject identifier.\n",
    "    epoch_path (str): Path to the folder containing the epoch file.\n",
    "    save_ica (str): Path to save the ICA file.\n",
    "    overwrite (bool): If True, overwrite the existing ICA file. Default is True.\n",
    "    method (str): ICA method to use ('fastica', 'infomax', 'extended-infomax'). Default is 'extended-infomax'.\n",
    "\n",
    "    Returns:\n",
    "    ICA: The fitted ICA object if processing is done, otherwise None.\n",
    "    \"\"\"\n",
    "\n",
    "    # Define file paths\n",
    "    raw_file_path = os.path.join(raw_path, f\"{subject}-raw.fif\")\n",
    "    ica_file_path = os.path.join(save_ica, f\"{subject}-ica.fif\")\n",
    "\n",
    "    # Check if the ICA file already exists and skip if overwrite is False\n",
    "    if os.path.exists(ica_file_path) and not overwrite:\n",
    "        print(f\"ICA file already exists for {subject}. Skipping ICA computation.\")\n",
    "        return None  # Early exit if file exists and overwrite is False\n",
    "\n",
    "    # Load the epochs file\n",
    "    if not os.path.exists(raw_file_path):\n",
    "        raise FileNotFoundError(f\"raw file for {subject} not found at {raw_file_path}.\")\n",
    "\n",
    "    raw = mne.io.read_raw_fif(raw_file_path, preload=True)\n",
    "\n",
    "    # Initialize and fit ICA using the specified method\n",
    "    ica = ICA(\n",
    "    n_components=15,\n",
    "    max_iter=\"auto\",\n",
    "    method=\"infomax\",\n",
    "    random_state=97,\n",
    "    fit_params=dict(extended=True)\n",
    ")\n",
    "    ica.fit(raw)\n",
    "\n",
    "    # Save the ICA solution\n",
    "    ica.save(ica_file_path, overwrite=overwrite)  # Pass overwrite to ica.save()\n",
    "    print(f\"ICA solution saved for {subject} at {ica_file_path}.\")\n",
    "\n",
    "    return ica"
   ]
  },
  {
   "cell_type": "code",
   "execution_count": null,
   "metadata": {
    "vscode": {
     "languageId": "shellscript"
    }
   },
   "outputs": [],
   "source": [
    "# Process each subject\n",
    "for subject in subs:\n",
    "    print(f\"Running ICA for subject {subject}\")\n",
    "    run_ica(subject=subject, raw_path=raw_files_path, save_ica=ica_path, overwrite=False)"
   ]
  },
  {
   "cell_type": "code",
   "execution_count": 97,
   "metadata": {
    "vscode": {
     "languageId": "shellscript"
    }
   },
   "outputs": [],
   "source": [
    "\n",
    "def plot_ica(subject, ica_path, save_plots, ica_plot_path, overwrite=False):\n",
    "    \"\"\"\n",
    "    Plots ICA components and saves each figure if specified.\n",
    "\n",
    "    Parameters:\n",
    "    subject (str): Subject identifier.\n",
    "    ica_path (str): Path to load the ICA file.\n",
    "    save_plots (bool): If True, saves the plot of ICA components.\n",
    "    ica_plot_path (str): Path to save the ICA component plots.\n",
    "    \"\"\"\n",
    "\n",
    "    # Load ICA solutions from file\n",
    "    ica = read_ica(os.path.join(ica_path, subject + \"-ica.fif\"))\n",
    "\n",
    "    # Plot ICA components\n",
    "    ica_figures = ica.plot_components()\n",
    "\n",
    "    if save_plots:\n",
    "        if isinstance(ica_figures, list):  # Case when multiple figures are returned\n",
    "            for i, fig in enumerate(ica_figures):\n",
    "                save_path = os.path.join(ica_plot_path, f\"{subject}_ica_components_page_{i+1}.pdf\")\n",
    "                if os.path.exists(save_path) and not overwrite:\n",
    "                    print(f\"Skipping {subject}: raw file already exists.\")\n",
    "                    return\n",
    "                fig.savefig(save_path, dpi=600)\n",
    "                print(f\"Figure {i+1} for subject {subject} saved at {save_path}\")\n",
    "        else:  # Case when a single figure is returned\n",
    "            save_path = os.path.join(ica_plot_path, f\"{subject}_ica_components.pdf\")\n",
    "            if os.path.exists(save_path) and not overwrite:\n",
    "                    print(f\"Skipping {subject}: raw file already exists.\")\n",
    "                    return\n",
    "            ica_figures.savefig(save_path, dpi=600)\n",
    "            print(f\"Figure for subject {subject} saved at {save_path}\")\n",
    "    else:\n",
    "        print('Not saving plots; set \"save_plots\" to \"True\" to save')\n",
    "\n"
   ]
  },
  {
   "cell_type": "code",
   "execution_count": null,
   "metadata": {
    "vscode": {
     "languageId": "shellscript"
    }
   },
   "outputs": [],
   "source": [
    "# Example usage for multiple subjects\n",
    "for subject in subs:\n",
    "    plot_ica(subject, ica_path=ica_path, save_plots=True, ica_plot_path=ica_figs_path, overwrite=False)"
   ]
  },
  {
   "cell_type": "code",
   "execution_count": null,
   "metadata": {
    "vscode": {
     "languageId": "shellscript"
    }
   },
   "outputs": [],
   "source": [
    "\n",
    "def classify_and_apply_ica(subject, raw_path, ica_path, ica_label_path, ica_cleaned_path,  print_labels=True):\n",
    "    \"\"\"\n",
    "    Load epochs and ICA files, classify ICA components using ICLabel, save the labels as a CSV file,\n",
    "    mark bad components for exclusion, apply ICA to clean the epochs, and save the cleaned epochs.\n",
    "\n",
    "    Parameters:\n",
    "    subject (str): Subject identifier.\n",
    "    epochs_path (str): Directory path to load the epochs file.\n",
    "    ica_path (str): Directory path to load the ICA file.\n",
    "    save_path (str): Directory path to save the labels CSV file and cleaned epochs.\n",
    "    print_labels (bool): If True, prints the classification labels and exclusion indices. Default is True.\n",
    "\n",
    "    Returns:\n",
    "    dict: Dictionary containing the classification results.\n",
    "    list: List of indices of components to exclude.\n",
    "    mne.Epochs: The cleaned epochs after applying ICA.\n",
    "    \"\"\"\n",
    "\n",
    "    # Load epochs and ICA files\n",
    "    raw_file = os.path.join(raw_path, f\"{subject}-raw.fif\")\n",
    "    ica_file = os.path.join(ica_path, f\"{subject}-ica.fif\")\n",
    "\n",
    "    if not os.path.exists(raw_file):\n",
    "        raise FileNotFoundError(f\"raw file for subject {subject} not found at {raw_file}.\")\n",
    "    if not os.path.exists(ica_file):\n",
    "        raise FileNotFoundError(f\"ICA file for subject {subject} not found at {ica_file}.\")\n",
    "\n",
    "    raw =  mne.io.read_raw_fif(raw_file, preload=True)\n",
    "\n",
    "\n",
    "    ica = read_ica(ica_file)\n",
    "\n",
    "    # Apply ICLabel to classify components\n",
    "\n",
    "    #ica_channels = ica_channels_dict[subject]# in\n",
    "\n",
    "    labels = label_components(raw, ica, method=\"iclabel\")\n",
    "\n",
    "   # Extract label names and identify indices to exclude\n",
    "    labels = labels[\"labels\"]\n",
    "    exclude_idx = [\n",
    "        idx for idx, label in enumerate(labels) if label not in [\"brain\", \"other\"]\n",
    "    ]\n",
    "    if print_labels:\n",
    "        print(f\"Excluding these ICA components: {exclude_idx}\")\n",
    "\n",
    "    # Mark bad components for exclusio\n",
    "\n",
    "    ica.exclude += exclude_idx\n",
    "\n",
    "    # Apply the ICA solution to remove the bad components from epochs\n",
    "    raw_clean = ica.apply(raw.copy())  # Apply ICA on a copy of the epochs\n",
    "\n",
    "    raw_clean.filter(.1, 40, fir_design='firwin') #for ICA filter between 1\n",
    "\n",
    "    epochs = mne.Epochs(raw_clean, tmin=-0.2, tmax=1, baseline=None, preload=True, reject=None)\n",
    "\n",
    "    # Save the cleaned epochs\n",
    "    cleaned_epochs_file = os.path.join(ica_cleaned_path, f\"{subject}_clean-epo.fif\")\n",
    "    epochs.save(cleaned_epochs_file, overwrite=True)\n",
    "    print(f\"Cleaned epochs for subject {subject} saved at {cleaned_epochs_file}\")\n",
    "\n",
    "    # Convert labels dictionary to a DataFrame\n",
    "   # label_data = []\n",
    "  #  for idx, label in enumerate(labels):\n",
    "   #     label_data.append({'Component': idx, 'Label': label})\n",
    "\n",
    "   # labels_df = pd.DataFrame(label_data)\n",
    "\n",
    "    # Save labels to CSV\n",
    "   # csv_save_path = os.path.join(ica_label_path, f\"{subject}_ica_labels.csv\")\n",
    "   # labels_df.to_csv(csv_save_path, index=False)\n",
    "   # print(f\"Labels for subject {subject} saved at {csv_save_path}\")\n",
    "\n",
    "    # Optional: Print labels for inspection\n",
    "  #  if print_labels:\n",
    "  #      print(labels)\n",
    "\n",
    "    return epochs\n",
    "\n",
    "epochs_cleaned = [classify_and_apply_ica(subject, raw_path=raw_files_path, ica_path=ica_path, ica_label_path=ica_labels_path, ica_cleaned_path=ica_cleaned_path, print_labels=True) for subject in subs]\n"
   ]
  },
  {
   "cell_type": "code",
   "execution_count": 100,
   "metadata": {
    "vscode": {
     "languageId": "shellscript"
    }
   },
   "outputs": [],
   "source": [
    "#baseline correct the data\n",
    "def prepro_epoch_new(subject, save_path, file_path, overwrite):\n",
    "     epoch_file=mne.read_epochs(file_path + subject + '_' + 'clean'+'-epo.fif')\n",
    "     epoch_file.apply_baseline((-.2,0))\n",
    "     epoch_file.save(save_path + subject+ 'apply_baseline'+'-epo.fif', overwrite=overwrite)\n",
    "     return(epoch_file)\n"
   ]
  },
  {
   "cell_type": "code",
   "execution_count": null,
   "metadata": {
    "vscode": {
     "languageId": "shellscript"
    }
   },
   "outputs": [],
   "source": [
    "clean = [prepro_epoch_new(subject, save_path=baseline_corrected_path, file_path=ica_cleaned_path, overwrite=True) for subject in subs]"
   ]
  },
  {
   "cell_type": "code",
   "execution_count": null,
   "metadata": {
    "vscode": {
     "languageId": "shellscript"
    }
   },
   "outputs": [],
   "source": [
    "clean"
   ]
  },
  {
   "cell_type": "code",
   "execution_count": null,
   "metadata": {
    "vscode": {
     "languageId": "shellscript"
    }
   },
   "outputs": [],
   "source": [
    "evoked=clean[2].average()\n",
    "evoked.plot()"
   ]
  },
  {
   "cell_type": "code",
   "execution_count": 104,
   "metadata": {
    "vscode": {
     "languageId": "shellscript"
    }
   },
   "outputs": [],
   "source": [
    "# Function to reject and interpolate bad epochs and save drop log to a CSV\n",
    "def autoreject_epochs(subject, reref_path, clean_path, overwrite):\n",
    "    \"\"\"\n",
    "    Apply AutoReject to clean epochs, save cleaned epochs, and export drop log to a CSV file.\n",
    "\n",
    "    Parameters:\n",
    "    - subject: str\n",
    "        The subject identifier (e.g., 'subject01').\n",
    "    - reref_path: str\n",
    "        The path where the rereferenced epochs are stored.\n",
    "    - clean_path: str\n",
    "        The path where the cleaned epochs should be saved.\n",
    "    - overwrite: bool\n",
    "        Whether to overwrite the existing file.\n",
    "\n",
    "    Returns:\n",
    "    - epochs_clean: mne.Epochs\n",
    "        The cleaned epochs object.\n",
    "    \"\"\"\n",
    "\n",
    "     # Save the drop log as a CSV file\n",
    "    drop_log_filename = clean_path + subject + '_drop_log.csv'\n",
    "    if os.path.exists(drop_log_filename) and not overwrite:\n",
    "       print(f\"Autoreject file already exists for {subject}. Skipping autoreject.\")\n",
    "       return None\n",
    "\n",
    "    # Load epochs file\n",
    "    ica_epochs = mne.read_epochs(reref_path + subject + 'apply_baseline' + '-epo.fif')\n",
    "\n",
    "    # Apply AutoReject to the epochs\n",
    "    ar = AutoReject()\n",
    "    epochs_clean = ar.fit_transform(ica_epochs)\n",
    "\n",
    "    # Save cleaned epochs\n",
    "    clean_epochs_name = subject + 'ar' + '-epo.fif'\n",
    "    ica_epochs_path = clean_path + clean_epochs_name\n",
    "    epochs_clean.save(ica_epochs_path, overwrite=overwrite)\n",
    "\n",
    "    # Extract the drop log from the cleaned epochs\n",
    "    drop_log = epochs_clean.drop_log\n",
    "\n",
    "    # Convert the drop log to a DataFrame for easier export to CSV\n",
    "    drop_log_df = pd.DataFrame({\n",
    "        'epoch': range(len(drop_log)),\n",
    "        'drop_reason': [', '.join([reason for reason in log if reason]) if log else 'OK' for log in drop_log]\n",
    "    })\n",
    "\n",
    "   \n",
    "    drop_log_df.to_csv(drop_log_filename, index=False)\n",
    "\n",
    "    print(f\"Drop log saved as {drop_log_filename}\")\n",
    "\n",
    "    return epochs_clean\n"
   ]
  },
  {
   "cell_type": "code",
   "execution_count": null,
   "metadata": {
    "vscode": {
     "languageId": "shellscript"
    }
   },
   "outputs": [],
   "source": [
    "ar_epochs = [autoreject_epochs(subject, reref_path=baseline_corrected_path, clean_path=ar_epochs_path, overwrite=False) for subject in subs]"
   ]
  },
  {
   "cell_type": "code",
   "execution_count": null,
   "metadata": {
    "vscode": {
     "languageId": "shellscript"
    }
   },
   "outputs": [],
   "source": []
  },
  {
   "cell_type": "code",
   "execution_count": 125,
   "metadata": {
    "vscode": {
     "languageId": "shellscript"
    }
   },
   "outputs": [],
   "source": [
    "# Function 1: Compute and save individual evoked responses for a single subject\n",
    "def compute_and_save_evokeds(cleaned_epochs_path, subject, evoked_path):\n",
    "    # Generate a subject ID\n",
    "    subject_id = subject\n",
    "\n",
    "    # Read in cleaned epochs for the subject\n",
    "    epochs_file = f\"{cleaned_epochs_path}/{subject_id}ar-epo.fif\"\n",
    "    epochs = mne.read_epochs(epochs_file, preload=True)\n",
    "    congruent_filename = evoked_path + subject_id + '_congruent_evoked.csv'\n",
    "    incongruent_filename = evoked_path + subject_id + '_incongruent_evoked.csv'\n",
    "    cong_ave_filename = evoked_path + subject_id + '_congruent-ave.fif'\n",
    "    incong_ave_filename = evoked_path + subject_id + '_incongruent-ave.fif'\n",
    "\n",
    "    if os.path.exists(congruent_filename) and os.path.exists(incongruent_filename) and os.path.exists(cong_ave_filename) and os.path.exists(incong_ave_filename):\n",
    "        print(f\"Congruent evokeds file already exists for {subject}. Skipping.\")\n",
    "        return None\n",
    "\n",
    "    # Initialize lists to store evoked responses\n",
    "    congruent_evoked_list = []\n",
    "    incongruent_evoked_list = []\n",
    "    \n",
    "    # Process the 'congruent' condition\n",
    "    if 'congruent' in epochs.event_id:\n",
    "        congruent_evoked = epochs['congruent'].average()\n",
    "        congruent_evoked_list.append(congruent_evoked)\n",
    "\n",
    "        # Save evoked to a .fif file\n",
    "        congruent_evoked.save(f'{evoked_path}/{subject_id}_congruent-ave.fif')\n",
    "\n",
    "        # Convert the evoked data to a DataFrame\n",
    "        df_congruent = pd.DataFrame({\n",
    "            'subject': subject_id,\n",
    "            'time': congruent_evoked.times,\n",
    "            'evoked': congruent_evoked.data.mean(axis=0),  # Average across channels\n",
    "            'condition': 'congruent'\n",
    "        })\n",
    "        # Save evoked data to CSV\n",
    "        df_congruent.to_csv(f'{evoked_path}/{subject_id}_congruent_evoked.csv', index=False)\n",
    "\n",
    "    # Process the 'incongruent' condition\n",
    "    if 'incongruent' in epochs.event_id:\n",
    "        incongruent_evoked = epochs['incongruent'].average()\n",
    "        incongruent_evoked_list.append(incongruent_evoked)\n",
    "\n",
    "        # Save evoked to a .fif file\n",
    "        incongruent_evoked.save(f'{evoked_path}/{subject_id}_incongruent-ave.fif')\n",
    "\n",
    "        # Convert the evoked data to a DataFrame\n",
    "        df_incongruent = pd.DataFrame({\n",
    "            'subject': subject_id,\n",
    "            'time': incongruent_evoked.times,\n",
    "            'evoked': incongruent_evoked.data.mean(axis=0),  # Average across channels\n",
    "            'condition': 'incongruent'\n",
    "        })\n",
    "        # Save evoked data to CSV\n",
    "        df_incongruent.to_csv(f'{evoked_path}/{subject_id}_incongruent_evoked.csv', index=False)\n",
    "\n",
    "    # Return the individual evoked responses for the subject\n",
    "    return congruent_evoked_list, incongruent_evoked_list"
   ]
  },
  {
   "cell_type": "code",
   "execution_count": null,
   "metadata": {
    "vscode": {
     "languageId": "shellscript"
    }
   },
   "outputs": [],
   "source": [
    "evoked_data = [compute_and_save_evokeds(cleaned_epochs_path=ar_epochs_path, subject=subject, evoked_path=evoked_path) for subject in subs]"
   ]
  },
  {
   "cell_type": "code",
   "execution_count": 108,
   "metadata": {
    "vscode": {
     "languageId": "shellscript"
    }
   },
   "outputs": [],
   "source": [
    "\n",
    "\n",
    "def read_evokeds_and_compute_grand_average(evoked_path, grand_path, subjects, roi, overwrite=True):\n",
    "    congruent_evoked_list = []\n",
    "    incongruent_evoked_list = []\n",
    "    \n",
    "    # Iterate over each subject to load their evoked responses\n",
    "    for subject_id in subjects:\n",
    "        # Load evoked responses from .fif files for congruent and incongruent conditions\n",
    "        congruent_evoked = mne.read_evokeds(f'{evoked_path}/{subject_id}_congruent-ave.fif')[0]\n",
    "        incongruent_evoked = mne.read_evokeds(f'{evoked_path}/{subject_id}_incongruent-ave.fif')[0]\n",
    "        \n",
    "        # Append the evoked responses to their respective lists\n",
    "        congruent_evoked_list.append(congruent_evoked)\n",
    "        incongruent_evoked_list.append(incongruent_evoked)\n",
    "\n",
    "    # Compute grand average for each condition\n",
    "    grand_average_congruent = mne.grand_average(congruent_evoked_list)\n",
    "    grand_average_incongruent = mne.grand_average(incongruent_evoked_list)\n",
    "\n",
    "    # Define the file paths\n",
    "    congruent_fif = f'{grand_path}/grand_average_congruent-ave.fif'\n",
    "    incongruent_fif = f'{grand_path}/grand_average_incongruent-ave.fif'\n",
    "    comparison_plot_path = f'{grand_path}/grand_average_comparison_plot.png'\n",
    "    combined_csv_path = f'{grand_path}/grand_average_combined.csv'\n",
    "\n",
    "    # Overwrite existing files if necessary\n",
    "    if overwrite:\n",
    "        if os.path.exists(congruent_fif):\n",
    "            os.remove(congruent_fif)\n",
    "        if os.path.exists(incongruent_fif):\n",
    "            os.remove(incongruent_fif)\n",
    "        if os.path.exists(comparison_plot_path):\n",
    "            os.remove(comparison_plot_path)\n",
    "        if os.path.exists(combined_csv_path):\n",
    "            os.remove(combined_csv_path)\n",
    "\n",
    "    # Save grand average evoked responses to .fif files\n",
    "    grand_average_congruent.save(congruent_fif)\n",
    "    grand_average_incongruent.save(incongruent_fif)\n",
    "\n",
    "    # Create a dictionary to pass the grand averages with condition names for labeling\n",
    "    evokeds = {\n",
    "        'Congruent': grand_average_congruent,\n",
    "        'Incongruent': grand_average_incongruent\n",
    "    }\n",
    "\n",
    "    # Plot the evoked responses for comparison\n",
    "    fig, ax = plt.subplots(figsize=(10, 6))\n",
    "    mne.viz.plot_compare_evokeds(evokeds, picks=roi, combine=\"mean\",\n",
    "                                 title='Grand Average or N400 and P600 Comparison at Central-Parietal Electrodes ID',\n",
    "                                 axes=ax, legend=True, vlines=[0.5, 0.7, 0.2, 0.5])\n",
    "    \n",
    "    # Save the comparison plot\n",
    "    plt.savefig(comparison_plot_path)\n",
    "\n",
    "    # Combine grand average congruent and incongruent into one DataFrame\n",
    "    df_grand_congruent = pd.DataFrame({\n",
    "        'subject': 'grand_average',\n",
    "        'time': grand_average_congruent.times,\n",
    "        'evoked': grand_average_congruent.data.mean(axis=0),  # Average across channels\n",
    "        'condition': 'congruent'\n",
    "    })\n",
    "\n",
    "    df_grand_incongruent = pd.DataFrame({\n",
    "        'subject': 'grand_average',\n",
    "        'time': grand_average_incongruent.times,\n",
    "        'evoked': grand_average_incongruent.data.mean(axis=0),  # Average across channels\n",
    "        'condition': 'incongruent'\n",
    "    })\n",
    "\n",
    "    # Combine and save grand average to a single CSV\n",
    "    df_grand_combined = pd.concat([df_grand_congruent, df_grand_incongruent])\n",
    "    df_grand_combined.to_csv(combined_csv_path, index=False)\n",
    "\n",
    "    print(f\"Grand averages saved in {grand_path}\")\n",
    "    \n",
    "    # Return the figure for display or further use\n",
    "    return fig"
   ]
  },
  {
   "cell_type": "code",
   "execution_count": null,
   "metadata": {
    "vscode": {
     "languageId": "shellscript"
    }
   },
   "outputs": [],
   "source": [
    "# Define your region of interest (ROI), e.g., central-parietal electrodes\n",
    "# Define the region of interest (ROI) channels\n",
    "roi = ['Cz', 'Pz', 'CPz', 'C3', 'C4', 'P3', 'P4']\n",
    "\n",
    "# Read evokeds, compute grand average, and plot\n",
    "fig = read_evokeds_and_compute_grand_average(evoked_path=evoked_path, grand_path=grand_path, subjects=subs, roi=roi, overwrite=True)\n"
   ]
  },
  {
   "cell_type": "code",
   "execution_count": 131,
   "metadata": {
    "vscode": {
     "languageId": "shellscript"
    }
   },
   "outputs": [],
   "source": [
    "\n",
    "# Function to extract N400 and P600 data\n",
    "def compute_mean_evokeds(cleaned_epochs_path, subject, evoked_path):\n",
    "    subject_id = subject\n",
    "    epochs_file = f\"{cleaned_epochs_path}/{subject_id}ar-epo.fif\"\n",
    "    epochs = mne.read_epochs(epochs_file, preload=True)\n",
    "\n",
    "    time_window_n400 = (0.300, 0.500)  # N400: 300-500 ms\n",
    "    time_window_p600 = (0.500, 0.800)  # P600: 500-800 ms\n",
    "\n",
    "    def extract_time_window(evoked, time_window):\n",
    "        \"\"\"Extract mean activity for a given time window\"\"\"\n",
    "        mask = (evoked.times >= time_window[0]) & (evoked.times <= time_window[1])\n",
    "        return evoked.data[:, mask].mean(axis=1)  # Mean across time points in window\n",
    "\n",
    "    results = []\n",
    "\n",
    "    for condition in [\"congruent\", \"incongruent\"]:\n",
    "        if condition in epochs.event_id:\n",
    "            evoked = epochs[condition].average()\n",
    "            evoked.save(f\"{evoked_path}/{subject_id}_{condition}-ave.fif\", overwrite=True)\n",
    "\n",
    "            df = pd.DataFrame({\n",
    "                \"subject\": subject_id,\n",
    "                \"time\": evoked.times,\n",
    "                \"evoked\": evoked.data.mean(axis=0),  # Mean across channels\n",
    "                \"condition\": condition\n",
    "            })\n",
    "            df.to_csv(f\"{evoked_path}/{subject_id}_{condition}_evoked.csv\", index=False)\n",
    "\n",
    "            # Extract mean amplitude in N400 and P600 time windows\n",
    "            mean_n400 = extract_time_window(evoked, time_window_n400).mean()\n",
    "            mean_p600 = extract_time_window(evoked, time_window_p600).mean()\n",
    "\n",
    "            results.append({\n",
    "                \"subject\": subject_id,\n",
    "                \"condition\": condition,\n",
    "                \"mean_n400\": mean_n400,\n",
    "                \"mean_p600\": mean_p600\n",
    "            })\n",
    "\n",
    "    return pd.DataFrame(results)  # Return summary dataframe"
   ]
  },
  {
   "cell_type": "code",
   "execution_count": 137,
   "metadata": {
    "vscode": {
     "languageId": "shellscript"
    }
   },
   "outputs": [],
   "source": [
    "import scipy.stats as stats"
   ]
  },
  {
   "cell_type": "code",
   "execution_count": 136,
   "metadata": {
    "vscode": {
     "languageId": "shellscript"
    }
   },
   "outputs": [
    {
     "name": "stdout",
     "output_type": "stream",
     "text": [
      "Reading /Users/admin/Documents/CodingBrain25/PreProcessing/autoreject_epochs/0130-TTVK4ar-epo.fif ...\n",
      "    Found the data of interest:\n",
      "        t =    -200.00 ...    1000.00 ms\n",
      "        0 CTF compensation matrices available\n",
      "Not setting metadata\n",
      "259 matching events found\n",
      "No baseline correction applied\n",
      "0 projection items activated\n",
      "Overwriting existing file.\n",
      "Overwriting existing file.\n",
      "Reading /Users/admin/Documents/CodingBrain25/PreProcessing/autoreject_epochs/0104-7VZA0ar-epo.fif ...\n",
      "    Found the data of interest:\n",
      "        t =    -200.00 ...    1000.00 ms\n",
      "        0 CTF compensation matrices available\n",
      "Not setting metadata\n",
      "280 matching events found\n",
      "No baseline correction applied\n",
      "0 projection items activated\n",
      "Overwriting existing file.\n",
      "Overwriting existing file.\n",
      "Reading /Users/admin/Documents/CodingBrain25/PreProcessing/autoreject_epochs/0110-1IS78ar-epo.fif ...\n",
      "    Found the data of interest:\n",
      "        t =    -200.00 ...    1000.00 ms\n",
      "        0 CTF compensation matrices available\n",
      "Not setting metadata\n",
      "265 matching events found\n",
      "No baseline correction applied\n",
      "0 projection items activated\n",
      "Overwriting existing file.\n",
      "Overwriting existing file.\n",
      "Reading /Users/admin/Documents/CodingBrain25/PreProcessing/autoreject_epochs/0109-GZN0Kar-epo.fif ...\n",
      "    Found the data of interest:\n",
      "        t =    -200.00 ...    1000.00 ms\n",
      "        0 CTF compensation matrices available\n",
      "Not setting metadata\n",
      "291 matching events found\n",
      "No baseline correction applied\n",
      "0 projection items activated\n",
      "Overwriting existing file.\n",
      "Overwriting existing file.\n",
      "Reading /Users/admin/Documents/CodingBrain25/PreProcessing/autoreject_epochs/0107-FN3G3ar-epo.fif ...\n",
      "    Found the data of interest:\n",
      "        t =    -200.00 ...    1000.00 ms\n",
      "        0 CTF compensation matrices available\n",
      "Not setting metadata\n",
      "279 matching events found\n",
      "No baseline correction applied\n",
      "0 projection items activated\n",
      "Overwriting existing file.\n",
      "Overwriting existing file.\n",
      "Reading /Users/admin/Documents/CodingBrain25/PreProcessing/autoreject_epochs/0128-HBQT4ar-epo.fif ...\n",
      "    Found the data of interest:\n",
      "        t =    -200.00 ...    1000.00 ms\n",
      "        0 CTF compensation matrices available\n",
      "Not setting metadata\n",
      "269 matching events found\n",
      "No baseline correction applied\n",
      "0 projection items activated\n",
      "Overwriting existing file.\n",
      "Overwriting existing file.\n",
      "Reading /Users/admin/Documents/CodingBrain25/PreProcessing/autoreject_epochs/0122-BJDQIar-epo.fif ...\n",
      "    Found the data of interest:\n",
      "        t =    -200.00 ...    1000.00 ms\n",
      "        0 CTF compensation matrices available\n",
      "Not setting metadata\n",
      "227 matching events found\n",
      "No baseline correction applied\n",
      "0 projection items activated\n",
      "Overwriting existing file.\n",
      "Overwriting existing file.\n",
      "Reading /Users/admin/Documents/CodingBrain25/PreProcessing/autoreject_epochs/1217-SFP13ar-epo.fif ...\n",
      "    Found the data of interest:\n",
      "        t =    -200.00 ...    1000.00 ms\n",
      "        0 CTF compensation matrices available\n",
      "Not setting metadata\n",
      "252 matching events found\n",
      "No baseline correction applied\n",
      "0 projection items activated\n",
      "Overwriting existing file.\n",
      "Overwriting existing file.\n",
      "Reading /Users/admin/Documents/CodingBrain25/PreProcessing/autoreject_epochs/0102-PV1XFar-epo.fif ...\n",
      "    Found the data of interest:\n",
      "        t =    -200.00 ...    1000.00 ms\n",
      "        0 CTF compensation matrices available\n",
      "Not setting metadata\n",
      "261 matching events found\n",
      "No baseline correction applied\n",
      "0 projection items activated\n",
      "Overwriting existing file.\n",
      "Overwriting existing file.\n",
      "Reading /Users/admin/Documents/CodingBrain25/PreProcessing/autoreject_epochs/0112-ZGZE5ar-epo.fif ...\n",
      "    Found the data of interest:\n",
      "        t =    -200.00 ...    1000.00 ms\n",
      "        0 CTF compensation matrices available\n",
      "Not setting metadata\n",
      "233 matching events found\n",
      "No baseline correction applied\n",
      "0 projection items activated\n",
      "Overwriting existing file.\n",
      "Overwriting existing file.\n",
      "Reading /Users/admin/Documents/CodingBrain25/PreProcessing/autoreject_epochs/0203-Z174Gar-epo.fif ...\n",
      "    Found the data of interest:\n",
      "        t =    -200.00 ...    1000.00 ms\n",
      "        0 CTF compensation matrices available\n",
      "Not setting metadata\n",
      "285 matching events found\n",
      "No baseline correction applied\n",
      "0 projection items activated\n",
      "Overwriting existing file.\n",
      "Overwriting existing file.\n",
      "Reading /Users/admin/Documents/CodingBrain25/PreProcessing/autoreject_epochs/0108-U5RMGar-epo.fif ...\n",
      "    Found the data of interest:\n",
      "        t =    -200.00 ...    1000.00 ms\n",
      "        0 CTF compensation matrices available\n",
      "Not setting metadata\n",
      "269 matching events found\n",
      "No baseline correction applied\n",
      "0 projection items activated\n",
      "Overwriting existing file.\n",
      "Overwriting existing file.\n",
      "Reading /Users/admin/Documents/CodingBrain25/PreProcessing/autoreject_epochs/0114-9GG89ar-epo.fif ...\n",
      "    Found the data of interest:\n",
      "        t =    -200.00 ...    1000.00 ms\n",
      "        0 CTF compensation matrices available\n",
      "Not setting metadata\n",
      "261 matching events found\n",
      "No baseline correction applied\n",
      "0 projection items activated\n",
      "Overwriting existing file.\n",
      "Overwriting existing file.\n",
      "Reading /Users/admin/Documents/CodingBrain25/PreProcessing/autoreject_epochs/0203-2VZRCar-epo.fif ...\n",
      "    Found the data of interest:\n",
      "        t =    -200.00 ...    1000.00 ms\n",
      "        0 CTF compensation matrices available\n",
      "Not setting metadata\n",
      "243 matching events found\n",
      "No baseline correction applied\n",
      "0 projection items activated\n",
      "Overwriting existing file.\n",
      "Overwriting existing file.\n",
      "Reading /Users/admin/Documents/CodingBrain25/PreProcessing/autoreject_epochs/0131-Y15CBar-epo.fif ...\n",
      "    Found the data of interest:\n",
      "        t =    -200.00 ...    1000.00 ms\n",
      "        0 CTF compensation matrices available\n",
      "Not setting metadata\n",
      "291 matching events found\n",
      "No baseline correction applied\n",
      "0 projection items activated\n",
      "Overwriting existing file.\n",
      "Overwriting existing file.\n",
      "Reading /Users/admin/Documents/CodingBrain25/PreProcessing/autoreject_epochs/0131-8LNQQar-epo.fif ...\n",
      "    Found the data of interest:\n",
      "        t =    -200.00 ...    1000.00 ms\n",
      "        0 CTF compensation matrices available\n",
      "Not setting metadata\n",
      "285 matching events found\n",
      "No baseline correction applied\n",
      "0 projection items activated\n",
      "Overwriting existing file.\n",
      "Overwriting existing file.\n",
      "Reading /Users/admin/Documents/CodingBrain25/PreProcessing/autoreject_epochs/0131-EOWYLar-epo.fif ...\n",
      "    Found the data of interest:\n",
      "        t =    -200.00 ...    1000.00 ms\n",
      "        0 CTF compensation matrices available\n",
      "Not setting metadata\n",
      "286 matching events found\n",
      "No baseline correction applied\n",
      "0 projection items activated\n",
      "Overwriting existing file.\n",
      "Overwriting existing file.\n",
      "Reading /Users/admin/Documents/CodingBrain25/PreProcessing/autoreject_epochs/0117-KXKZ2ar-epo.fif ...\n",
      "    Found the data of interest:\n",
      "        t =    -200.00 ...    1000.00 ms\n",
      "        0 CTF compensation matrices available\n",
      "Not setting metadata\n",
      "268 matching events found\n",
      "No baseline correction applied\n",
      "0 projection items activated\n",
      "Overwriting existing file.\n",
      "Overwriting existing file.\n",
      "Reading /Users/admin/Documents/CodingBrain25/PreProcessing/autoreject_epochs/0104-SZEQ2ar-epo.fif ...\n",
      "    Found the data of interest:\n",
      "        t =    -200.00 ...    1000.00 ms\n",
      "        0 CTF compensation matrices available\n",
      "Not setting metadata\n",
      "258 matching events found\n",
      "No baseline correction applied\n",
      "0 projection items activated\n",
      "Overwriting existing file.\n",
      "Overwriting existing file.\n",
      "Reading /Users/admin/Documents/CodingBrain25/PreProcessing/autoreject_epochs/0103-XN1WLar-epo.fif ...\n",
      "    Found the data of interest:\n",
      "        t =    -200.00 ...    1000.00 ms\n",
      "        0 CTF compensation matrices available\n",
      "Not setting metadata\n",
      "291 matching events found\n",
      "No baseline correction applied\n",
      "0 projection items activated\n",
      "Overwriting existing file.\n",
      "Overwriting existing file.\n",
      "Reading /Users/admin/Documents/CodingBrain25/PreProcessing/autoreject_epochs/0106-TZFW3ar-epo.fif ...\n",
      "    Found the data of interest:\n",
      "        t =    -200.00 ...    1000.00 ms\n",
      "        0 CTF compensation matrices available\n",
      "Not setting metadata\n",
      "272 matching events found\n",
      "No baseline correction applied\n",
      "0 projection items activated\n",
      "Overwriting existing file.\n",
      "Overwriting existing file.\n",
      "Reading /Users/admin/Documents/CodingBrain25/PreProcessing/autoreject_epochs/0127-jpjw9ar-epo.fif ...\n",
      "    Found the data of interest:\n",
      "        t =    -200.00 ...    1000.00 ms\n",
      "        0 CTF compensation matrices available\n",
      "Not setting metadata\n",
      "290 matching events found\n",
      "No baseline correction applied\n",
      "0 projection items activated\n",
      "Overwriting existing file.\n",
      "Overwriting existing file.\n"
     ]
    },
    {
     "name": "stderr",
     "output_type": "stream",
     "text": [
      "/var/folders/5_/6rxt099s5lx99ywhqcl84w4c0000gn/T/ipykernel_2497/3148446384.py:16: FutureWarning: \n",
      "\n",
      "Passing `palette` without assigning `hue` is deprecated and will be removed in v0.14.0. Assign the `x` variable to `hue` and set `legend=False` for the same effect.\n",
      "\n",
      "  sns.boxplot(x=\"condition\", y=\"mean_n400\", data=results_df, palette=\"Set2\")\n"
     ]
    },
    {
     "data": {
      "image/png": "[encoded data removed]",
      "text/plain": [
       "<Figure size 800x500 with 1 Axes>"
      ]
     },
     "metadata": {},
     "output_type": "display_data"
    },
    {
     "name": "stderr",
     "output_type": "stream",
     "text": [
      "/var/folders/5_/6rxt099s5lx99ywhqcl84w4c0000gn/T/ipykernel_2497/3148446384.py:23: FutureWarning: \n",
      "\n",
      "Passing `palette` without assigning `hue` is deprecated and will be removed in v0.14.0. Assign the `x` variable to `hue` and set `legend=False` for the same effect.\n",
      "\n",
      "  sns.boxplot(x=\"condition\", y=\"mean_p600\", data=results_df, palette=\"Set2\")\n"
     ]
    },
    {
     "data": {
      "image/png": "[encoded data removed]",
      "text/plain": [
       "<Figure size 800x500 with 1 Axes>"
      ]
     },
     "metadata": {},
     "output_type": "display_data"
    }
   ],
   "source": [
    "results_df = pd.concat([\n",
    "    compute_mean_evokeds(cleaned_epochs_path=ar_epochs_path, subject=subject, evoked_path=evoked_path) for subject in subs\n",
    "])\n",
    "\n",
    "# Save final results to CSV\n",
    "results_df.to_csv(f\"{evoked_path}/n400_p600_summary.csv\", index=False)\n",
    "\n",
    "\n",
    "import matplotlib.pyplot as plt\n",
    "import seaborn as sns\n",
    "\n",
    "sns.set(style=\"whitegrid\")\n",
    "\n",
    "#perform paired t-test\n",
    "#t_stat, p_value = stats.ttest_rel()\n",
    "\n",
    "# Plot N400\n",
    "plt.figure(figsize=(8, 5))\n",
    "sns.boxplot(x=\"condition\", y=\"mean_n400\", data=results_df, palette=\"Set2\")\n",
    "plt.title(\"N400 Amplitude (300-500 ms)\")\n",
    "plt.ylabel(\"Mean Amplitude (µV)\")\n",
    "plt.show()\n",
    "\n",
    "# Plot P600\n",
    "plt.figure(figsize=(8, 5))\n",
    "sns.boxplot(x=\"condition\", y=\"mean_p600\", data=results_df, palette=\"Set2\")\n",
    "plt.title(\"P600 Amplitude (500-800 ms)\")\n",
    "plt.ylabel(\"Mean Amplitude (µV)\")\n",
    "plt.show()"
   ]
  },
  {
   "cell_type": "code",
   "execution_count": 152,
   "metadata": {
    "vscode": {
     "languageId": "shellscript"
    }
   },
   "outputs": [
    {
     "name": "stdout",
     "output_type": "stream",
     "text": [
      "T-statistic N400: -1.3657\n",
      "P-value N400: 0.1865\n",
      "T-statistic P600: -3.6801\n",
      "P-value P600: 0.0014\n"
     ]
    }
   ],
   "source": [
    "N400cong_list = results_df[results_df['condition'] == \"congruent\"]['mean_n400'].tolist()\n",
    "N400incong_list = results_df[results_df['condition'] == \"incongruent\"]['mean_n400'].tolist()\n",
    "\n",
    "t_stat, p_value = stats.ttest_rel(N400cong_list, N400incong_list)\n",
    "print(f\"T-statistic N400: {t_stat:.4f}\")\n",
    "print(f\"P-value N400: {p_value:.4f}\")\n",
    "\n",
    "P600cong_list = results_df[results_df['condition'] == \"congruent\"]['mean_p600'].tolist()\n",
    "P600incong_list = results_df[results_df['condition'] == \"incongruent\"]['mean_p600'].tolist()\n",
    "\n",
    "t_stat, p_value = stats.ttest_rel(P600cong_list, P600incong_list)\n",
    "print(f\"T-statistic P600: {t_stat:.4f}\")\n",
    "print(f\"P-value P600: {p_value:.4f}\")\n"
   ]
  }
 ],
 "metadata": {
  "kernelspec": {
   "display_name": "Python 3",
   "language": "python",
   "name": "python3"
  },
  "language_info": {
   "codemirror_mode": {
    "name": "ipython",
    "version": 3
   },
   "file_extension": ".py",
   "mimetype": "text/x-python",
   "name": "python",
   "nbconvert_exporter": "python",
   "pygments_lexer": "ipython3",
   "version": "3.13.1"
  }
 },
 "nbformat": 4,
 "nbformat_minor": 2
}
